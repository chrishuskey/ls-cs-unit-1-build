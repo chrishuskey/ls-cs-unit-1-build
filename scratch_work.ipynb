{
 "metadata": {
  "language_info": {
   "codemirror_mode": {
    "name": "ipython",
    "version": 3
   },
   "file_extension": ".py",
   "mimetype": "text/x-python",
   "name": "python",
   "nbconvert_exporter": "python",
   "pygments_lexer": "ipython3",
   "version": 3
  },
  "orig_nbformat": 2,
  "kernelspec": {
   "name": "python_defaultSpec_1596217420169",
   "display_name": "Python 3.7.6 64-bit ('base': conda)"
  }
 },
 "nbformat": 4,
 "nbformat_minor": 2,
 "cells": [
  {
   "cell_type": "markdown",
   "metadata": {},
   "source": [
    "### Test: Our Naive Bayes Model vs. Scikit-learn Naive Bayes, Using Random Data:"
   ]
  },
  {
   "cell_type": "code",
   "execution_count": 14,
   "metadata": {},
   "outputs": [],
   "source": [
    "# Import libraries, packages, modules:\n",
    "\n",
    "# Models (estimator classes):\n",
    "from gaussian_nb import NaiveBayesGaussian\n",
    "from sklearn.naive_bayes import GaussianNB\n",
    "\n",
    "# Other, for testing below:\n",
    "import numpy as np\n",
    "import pandas as pd\n",
    "import random"
   ]
  },
  {
   "cell_type": "code",
   "execution_count": 15,
   "metadata": {},
   "outputs": [],
   "source": [
    "# Test data: Make randomized data to test with:\n",
    "\n",
    "test_num_features = 3  # OR: random.randint(1, 101)\n",
    "test_num_rows = test_num_features * 5\n",
    "# OR: random.randint(0, 101) OR np.random.randint(0, 101)\n",
    "\n",
    "test_feature_matrix = [[random.uniform(-10, 10) for feature in range(test_num_features)] for row in range(test_num_rows)]\n",
    "# OR: np.random.uniform(low=-10, high=10, size=(test_num_rows, test_num_features))\n",
    "test_target = [random.randint(0, 1) for row in range(test_num_rows)]\n",
    "# OR: np.random.random_integers(low=0, high=1, size=(test_length,))"
   ]
  },
  {
   "cell_type": "code",
   "execution_count": 16,
   "metadata": {},
   "outputs": [
    {
     "output_type": "execute_result",
     "data": {
      "text/plain": "[[-7.403970413089076, -3.2709309900112338, -9.954860450160368],\n [3.3278403602726137, -5.3964929203232685, -4.586314516494365],\n [0.3220027589002523, -7.995692305358855, 0.21943335155485144],\n [-4.569679301514713, -8.658198618700641, -3.1342917623980497],\n [6.74697392536617, 3.5291024486759053, -2.578146715010652],\n [7.095008176805813, -9.607593770280207, -8.559249239382689],\n [-9.415069821806107, -8.78397558875023, 8.670796128063309],\n [-1.4428601747408099, 3.9860581459479256, -8.357931025649062],\n [-4.648839127580491, -0.9989160629221328, -6.583662667325935],\n [8.483248436978261, -1.7682553064144013, -9.668120928623352],\n [9.882925902564217, 4.058044383693369, -8.002108910054147],\n [-3.8100467594185012, 1.8525788528660279, -0.9278159191042548],\n [-3.3482737284326163, -7.785209273813061, 7.345678965098283],\n [-8.467816203826992, -5.753375814074706, 7.309682235498478],\n [-1.780175465799898, -7.067834301877958, -8.962009468070757]]"
     },
     "metadata": {},
     "execution_count": 16
    }
   ],
   "source": [
    "test_feature_matrix"
   ]
  },
  {
   "cell_type": "code",
   "execution_count": 17,
   "metadata": {},
   "outputs": [
    {
     "output_type": "execute_result",
     "data": {
      "text/plain": "[1, 0, 0, 0, 1, 1, 1, 0, 0, 0, 1, 1, 0, 0, 1]"
     },
     "metadata": {},
     "execution_count": 17
    }
   ],
   "source": [
    "test_target"
   ]
  },
  {
   "cell_type": "code",
   "execution_count": 18,
   "metadata": {
    "tags": []
   },
   "outputs": [
    {
     "output_type": "execute_result",
     "data": {
      "text/plain": "[0, 0, 0, 0, 1, 1, 0, 1, 0, 1, 1, 0, 0, 0, 0]"
     },
     "metadata": {},
     "execution_count": 18
    }
   ],
   "source": [
    "# Test:\n",
    "model_nb = NaiveBayesGaussian()\n",
    "model_nb.fit(X_features=test_feature_matrix, y_target=test_target)\n",
    "model_nb.predict(X_features=test_feature_matrix)"
   ]
  },
  {
   "cell_type": "code",
   "execution_count": 19,
   "metadata": {
    "tags": []
   },
   "outputs": [
    {
     "output_type": "execute_result",
     "data": {
      "text/plain": "0.6"
     },
     "metadata": {},
     "execution_count": 19
    }
   ],
   "source": [
    "model_nb.score(X_features=test_feature_matrix, y_target=test_target)"
   ]
  },
  {
   "cell_type": "code",
   "execution_count": 20,
   "metadata": {},
   "outputs": [
    {
     "output_type": "execute_result",
     "data": {
      "text/plain": "[0, 1]"
     },
     "metadata": {},
     "execution_count": 20
    }
   ],
   "source": [
    "model_nb.classes"
   ]
  },
  {
   "cell_type": "code",
   "execution_count": 21,
   "metadata": {},
   "outputs": [
    {
     "output_type": "execute_result",
     "data": {
      "text/plain": "{0: 0.5333333333333333, 1: 0.4666666666666667}"
     },
     "metadata": {},
     "execution_count": 21
    }
   ],
   "source": [
    "model_nb.class_priors"
   ]
  },
  {
   "cell_type": "code",
   "execution_count": 22,
   "metadata": {},
   "outputs": [
    {
     "output_type": "execute_result",
     "data": {
      "text/plain": "{0: [{'class': 0,\n   'feature_number': 0,\n   'mean': -1.2930471224930618,\n   'variance': 28.179758893538228},\n  {'class': 0,\n   'feature_number': 1,\n   'mean': -4.296260269457393,\n   'variance': 19.15412179227826},\n  {'class': 0,\n   'feature_number': 2,\n   'mean': -2.181940793542394,\n   'variance': 43.84027613700075}],\n 1: [{'class': 1,\n   'feature_number': 0,\n   'mean': 0.18794936351751687,\n   'variance': 59.07225774278907},\n  {'class': 1,\n   'feature_number': 1,\n   'mean': -2.7558012808120464,\n   'variance': 34.88510138046505},\n  {'class': 1,\n   'feature_number': 2,\n   'mean': -4.330484939102794,\n   'variance': 44.68834075698772}]}"
     },
     "metadata": {},
     "execution_count": 22
    }
   ],
   "source": [
    "model_nb.ccps_likelihoods"
   ]
  },
  {
   "cell_type": "code",
   "execution_count": null,
   "metadata": {},
   "outputs": [],
   "source": []
  },
  {
   "cell_type": "code",
   "execution_count": null,
   "metadata": {},
   "outputs": [],
   "source": []
  },
  {
   "cell_type": "code",
   "execution_count": null,
   "metadata": {},
   "outputs": [],
   "source": []
  },
  {
   "cell_type": "code",
   "execution_count": null,
   "metadata": {},
   "outputs": [],
   "source": []
  },
  {
   "cell_type": "code",
   "execution_count": null,
   "metadata": {},
   "outputs": [],
   "source": []
  },
  {
   "cell_type": "code",
   "execution_count": null,
   "metadata": {},
   "outputs": [],
   "source": []
  },
  {
   "cell_type": "code",
   "execution_count": 420,
   "metadata": {},
   "outputs": [],
   "source": []
  },
  {
   "cell_type": "code",
   "execution_count": null,
   "metadata": {},
   "outputs": [],
   "source": []
  },
  {
   "cell_type": "code",
   "execution_count": null,
   "metadata": {},
   "outputs": [],
   "source": []
  },
  {
   "cell_type": "code",
   "execution_count": null,
   "metadata": {},
   "outputs": [],
   "source": []
  },
  {
   "cell_type": "code",
   "execution_count": null,
   "metadata": {},
   "outputs": [],
   "source": []
  },
  {
   "cell_type": "code",
   "execution_count": null,
   "metadata": {},
   "outputs": [],
   "source": []
  },
  {
   "cell_type": "code",
   "execution_count": null,
   "metadata": {},
   "outputs": [],
   "source": []
  },
  {
   "cell_type": "code",
   "execution_count": null,
   "metadata": {},
   "outputs": [],
   "source": []
  },
  {
   "cell_type": "code",
   "execution_count": null,
   "metadata": {},
   "outputs": [],
   "source": []
  },
  {
   "cell_type": "code",
   "execution_count": 23,
   "metadata": {},
   "outputs": [],
   "source": [
    "X_features = test_feature_matrix\n",
    "y_target = test_target"
   ]
  },
  {
   "cell_type": "code",
   "execution_count": 24,
   "metadata": {},
   "outputs": [
    {
     "output_type": "execute_result",
     "data": {
      "text/plain": "array([[-7.40397041, -3.27093099, -9.95486045],\n       [ 3.32784036, -5.39649292, -4.58631452],\n       [ 0.32200276, -7.99569231,  0.21943335],\n       [-4.5696793 , -8.65819862, -3.13429176],\n       [ 6.74697393,  3.52910245, -2.57814672],\n       [ 7.09500818, -9.60759377, -8.55924924],\n       [-9.41506982, -8.78397559,  8.67079613],\n       [-1.44286017,  3.98605815, -8.35793103],\n       [-4.64883913, -0.99891606, -6.58366267],\n       [ 8.48324844, -1.76825531, -9.66812093],\n       [ 9.8829259 ,  4.05804438, -8.00210891],\n       [-3.81004676,  1.85257885, -0.92781592],\n       [-3.34827373, -7.78520927,  7.34567897],\n       [-8.4678162 , -5.75337581,  7.30968224],\n       [-1.78017547, -7.0678343 , -8.96200947]])"
     },
     "metadata": {},
     "execution_count": 24
    }
   ],
   "source": [
    "X_features = np.array(X_features)\n",
    "X_features"
   ]
  },
  {
   "cell_type": "code",
   "execution_count": 25,
   "metadata": {},
   "outputs": [
    {
     "output_type": "execute_result",
     "data": {
      "text/plain": "3"
     },
     "metadata": {},
     "execution_count": 25
    }
   ],
   "source": [
    "X_features.shape[1]"
   ]
  },
  {
   "cell_type": "code",
   "execution_count": 26,
   "metadata": {
    "tags": []
   },
   "outputs": [
    {
     "output_type": "stream",
     "name": "stdout",
     "text": "[-7.40397041  3.32784036  0.32200276 -4.5696793   6.74697393  7.09500818\n -9.41506982 -1.44286017 -4.64883913  8.48324844  9.8829259  -3.81004676\n -3.34827373 -8.4678162  -1.78017547]\n[-3.27093099 -5.39649292 -7.99569231 -8.65819862  3.52910245 -9.60759377\n -8.78397559  3.98605815 -0.99891606 -1.76825531  4.05804438  1.85257885\n -7.78520927 -5.75337581 -7.0678343 ]\n[-9.95486045 -4.58631452  0.21943335 -3.13429176 -2.57814672 -8.55924924\n  8.67079613 -8.35793103 -6.58366267 -9.66812093 -8.00210891 -0.92781592\n  7.34567897  7.30968224 -8.96200947]\n"
    }
   ],
   "source": [
    "num_features = X_features.shape[1]\n",
    "for feature_num in range(num_features):\n",
    "    print(X_features[:, feature_num])"
   ]
  },
  {
   "cell_type": "code",
   "execution_count": 27,
   "metadata": {},
   "outputs": [
    {
     "output_type": "execute_result",
     "data": {
      "text/plain": "           0         1         2  y_target\n0  -7.403970 -3.270931 -9.954860         1\n1   3.327840 -5.396493 -4.586315         0\n2   0.322003 -7.995692  0.219433         0\n3  -4.569679 -8.658199 -3.134292         0\n4   6.746974  3.529102 -2.578147         1\n5   7.095008 -9.607594 -8.559249         1\n6  -9.415070 -8.783976  8.670796         1\n7  -1.442860  3.986058 -8.357931         0\n8  -4.648839 -0.998916 -6.583663         0\n9   8.483248 -1.768255 -9.668121         0\n10  9.882926  4.058044 -8.002109         1\n11 -3.810047  1.852579 -0.927816         1\n12 -3.348274 -7.785209  7.345679         0\n13 -8.467816 -5.753376  7.309682         0\n14 -1.780175 -7.067834 -8.962009         1",
      "text/html": "<div>\n<style scoped>\n    .dataframe tbody tr th:only-of-type {\n        vertical-align: middle;\n    }\n\n    .dataframe tbody tr th {\n        vertical-align: top;\n    }\n\n    .dataframe thead th {\n        text-align: right;\n    }\n</style>\n<table border=\"1\" class=\"dataframe\">\n  <thead>\n    <tr style=\"text-align: right;\">\n      <th></th>\n      <th>0</th>\n      <th>1</th>\n      <th>2</th>\n      <th>y_target</th>\n    </tr>\n  </thead>\n  <tbody>\n    <tr>\n      <th>0</th>\n      <td>-7.403970</td>\n      <td>-3.270931</td>\n      <td>-9.954860</td>\n      <td>1</td>\n    </tr>\n    <tr>\n      <th>1</th>\n      <td>3.327840</td>\n      <td>-5.396493</td>\n      <td>-4.586315</td>\n      <td>0</td>\n    </tr>\n    <tr>\n      <th>2</th>\n      <td>0.322003</td>\n      <td>-7.995692</td>\n      <td>0.219433</td>\n      <td>0</td>\n    </tr>\n    <tr>\n      <th>3</th>\n      <td>-4.569679</td>\n      <td>-8.658199</td>\n      <td>-3.134292</td>\n      <td>0</td>\n    </tr>\n    <tr>\n      <th>4</th>\n      <td>6.746974</td>\n      <td>3.529102</td>\n      <td>-2.578147</td>\n      <td>1</td>\n    </tr>\n    <tr>\n      <th>5</th>\n      <td>7.095008</td>\n      <td>-9.607594</td>\n      <td>-8.559249</td>\n      <td>1</td>\n    </tr>\n    <tr>\n      <th>6</th>\n      <td>-9.415070</td>\n      <td>-8.783976</td>\n      <td>8.670796</td>\n      <td>1</td>\n    </tr>\n    <tr>\n      <th>7</th>\n      <td>-1.442860</td>\n      <td>3.986058</td>\n      <td>-8.357931</td>\n      <td>0</td>\n    </tr>\n    <tr>\n      <th>8</th>\n      <td>-4.648839</td>\n      <td>-0.998916</td>\n      <td>-6.583663</td>\n      <td>0</td>\n    </tr>\n    <tr>\n      <th>9</th>\n      <td>8.483248</td>\n      <td>-1.768255</td>\n      <td>-9.668121</td>\n      <td>0</td>\n    </tr>\n    <tr>\n      <th>10</th>\n      <td>9.882926</td>\n      <td>4.058044</td>\n      <td>-8.002109</td>\n      <td>1</td>\n    </tr>\n    <tr>\n      <th>11</th>\n      <td>-3.810047</td>\n      <td>1.852579</td>\n      <td>-0.927816</td>\n      <td>1</td>\n    </tr>\n    <tr>\n      <th>12</th>\n      <td>-3.348274</td>\n      <td>-7.785209</td>\n      <td>7.345679</td>\n      <td>0</td>\n    </tr>\n    <tr>\n      <th>13</th>\n      <td>-8.467816</td>\n      <td>-5.753376</td>\n      <td>7.309682</td>\n      <td>0</td>\n    </tr>\n    <tr>\n      <th>14</th>\n      <td>-1.780175</td>\n      <td>-7.067834</td>\n      <td>-8.962009</td>\n      <td>1</td>\n    </tr>\n  </tbody>\n</table>\n</div>"
     },
     "metadata": {},
     "execution_count": 27
    }
   ],
   "source": [
    "x_df = pd.DataFrame(X_features)\n",
    "x_df[\"y_target\"] = test_target\n",
    "x_df"
   ]
  },
  {
   "cell_type": "code",
   "execution_count": 28,
   "metadata": {},
   "outputs": [
    {
     "output_type": "execute_result",
     "data": {
      "text/plain": "                 0         1         2\ny_target                              \n0        -1.293047 -4.296260 -2.181941\n1         0.187949 -2.755801 -4.330485",
      "text/html": "<div>\n<style scoped>\n    .dataframe tbody tr th:only-of-type {\n        vertical-align: middle;\n    }\n\n    .dataframe tbody tr th {\n        vertical-align: top;\n    }\n\n    .dataframe thead th {\n        text-align: right;\n    }\n</style>\n<table border=\"1\" class=\"dataframe\">\n  <thead>\n    <tr style=\"text-align: right;\">\n      <th></th>\n      <th>0</th>\n      <th>1</th>\n      <th>2</th>\n    </tr>\n    <tr>\n      <th>y_target</th>\n      <th></th>\n      <th></th>\n      <th></th>\n    </tr>\n  </thead>\n  <tbody>\n    <tr>\n      <th>0</th>\n      <td>-1.293047</td>\n      <td>-4.296260</td>\n      <td>-2.181941</td>\n    </tr>\n    <tr>\n      <th>1</th>\n      <td>0.187949</td>\n      <td>-2.755801</td>\n      <td>-4.330485</td>\n    </tr>\n  </tbody>\n</table>\n</div>"
     },
     "metadata": {},
     "execution_count": 28
    }
   ],
   "source": [
    "x_df.groupby(by=\"y_target\").mean()"
   ]
  },
  {
   "cell_type": "code",
   "execution_count": 29,
   "metadata": {},
   "outputs": [
    {
     "output_type": "execute_result",
     "data": {
      "text/plain": "                  0          1          2\ny_target                                 \n0         28.179759  19.154122  43.840276\n1         59.072258  34.885101  44.688341",
      "text/html": "<div>\n<style scoped>\n    .dataframe tbody tr th:only-of-type {\n        vertical-align: middle;\n    }\n\n    .dataframe tbody tr th {\n        vertical-align: top;\n    }\n\n    .dataframe thead th {\n        text-align: right;\n    }\n</style>\n<table border=\"1\" class=\"dataframe\">\n  <thead>\n    <tr style=\"text-align: right;\">\n      <th></th>\n      <th>0</th>\n      <th>1</th>\n      <th>2</th>\n    </tr>\n    <tr>\n      <th>y_target</th>\n      <th></th>\n      <th></th>\n      <th></th>\n    </tr>\n  </thead>\n  <tbody>\n    <tr>\n      <th>0</th>\n      <td>28.179759</td>\n      <td>19.154122</td>\n      <td>43.840276</td>\n    </tr>\n    <tr>\n      <th>1</th>\n      <td>59.072258</td>\n      <td>34.885101</td>\n      <td>44.688341</td>\n    </tr>\n  </tbody>\n</table>\n</div>"
     },
     "metadata": {},
     "execution_count": 29
    }
   ],
   "source": [
    "x_df.groupby(by=\"y_target\").var()"
   ]
  },
  {
   "cell_type": "code",
   "execution_count": null,
   "metadata": {},
   "outputs": [],
   "source": []
  },
  {
   "cell_type": "code",
   "execution_count": null,
   "metadata": {},
   "outputs": [],
   "source": []
  },
  {
   "cell_type": "code",
   "execution_count": null,
   "metadata": {},
   "outputs": [],
   "source": [
    "# \n",
    "# Calculate the prior probability for given class labels\n",
    "\n",
    "# [?? To do: Handle exceptions when input arrays are not the right type -- e.g., are strings instead of ints and floats ??]\n",
    "\n",
    "# Prep: "
   ]
  },
  {
   "cell_type": "code",
   "execution_count": null,
   "metadata": {},
   "outputs": [],
   "source": [
    "# Step 2: Find Conditional/Likelihood probability with each attribute for each class\n",
    "# Step 3: Put these value in Bayes Formula and calculate posterior probability.\n",
    "# Step 4: See which class has a higher probability, given the input belongs to the higher probability class."
   ]
  },
  {
   "cell_type": "code",
   "execution_count": null,
   "metadata": {},
   "outputs": [],
   "source": [
    "# [?? To do: Kernel density estimation KDE ??]"
   ]
  }
 ]
}