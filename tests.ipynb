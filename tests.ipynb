{
 "metadata": {
  "language_info": {
   "codemirror_mode": {
    "name": "ipython",
    "version": 3
   },
   "file_extension": ".py",
   "mimetype": "text/x-python",
   "name": "python",
   "nbconvert_exporter": "python",
   "pygments_lexer": "ipython3",
   "version": 3
  },
  "orig_nbformat": 2,
  "kernelspec": {
   "name": "python_defaultSpec_1596217269615",
   "display_name": "Python 3.7.6 64-bit ('base': conda)"
  }
 },
 "nbformat": 4,
 "nbformat_minor": 2,
 "cells": [
  {
   "cell_type": "markdown",
   "metadata": {},
   "source": [
    "## Test: Our Naive Bayes Model vs. Scikit-learn Naive Bayes, Using Random Data:"
   ]
  },
  {
   "cell_type": "code",
   "execution_count": 53,
   "metadata": {},
   "outputs": [],
   "source": [
    "# Import libraries, packages, modules:\n",
    "\n",
    "# Models (estimator classes):\n",
    "from gaussian_nb import NaiveBayesGaussian\n",
    "from sklearn.naive_bayes import GaussianNB\n",
    "\n",
    "# Other, for testing below:\n",
    "import numpy as np\n",
    "import pandas as pd\n",
    "import random"
   ]
  },
  {
   "cell_type": "code",
   "execution_count": 54,
   "metadata": {},
   "outputs": [],
   "source": [
    "# Test data: Make randomized data to test with:\n",
    "\n",
    "test_num_features = 3  # OR: random.randint(1, 101)\n",
    "test_num_rows = test_num_features * 5\n",
    "# OR: random.randint(0, 101) OR np.random.randint(0, 101)\n",
    "\n",
    "test_feature_matrix = [[random.uniform(-10, 10) for feature in range(test_num_features)] for row in range(test_num_rows)]\n",
    "# OR: np.random.uniform(low=-10, high=10, size=(test_num_rows, test_num_features))\n",
    "test_target = [random.randint(0, 1) for row in range(test_num_rows)]\n",
    "# OR: np.random.random_integers(low=0, high=1, size=(test_length,))"
   ]
  },
  {
   "cell_type": "code",
   "execution_count": 55,
   "metadata": {},
   "outputs": [
    {
     "output_type": "execute_result",
     "data": {
      "text/plain": "[[-1.4096137182632944, -9.972031031893366, 0.5800004346349112],\n [-8.878640336281698, -5.29687265309295, 8.177233030481453],\n [1.8138886141969035, -8.938391176551834, 6.337995101562871],\n [1.480822697194423, -5.722391464911556, -3.83562700016038],\n [-9.848137924218017, 3.28251872705013, 6.22385972118709],\n [-5.05305930336265, -3.4880382297569934, 7.884329558228867],\n [7.80979623122451, -0.6323432645907179, 7.56196550839077],\n [-4.456544414883834, -8.130435525827304, -8.439413510643003],\n [-1.0019707165296303, 7.961605409636519, 8.393201682784596],\n [-8.18525205205396, 6.285401893808714, 1.7514405352504703],\n [0.2469794866474011, 4.205230823613126, -4.758383193796652],\n [-0.3767005124145424, 4.676506061800094, -2.6101554892511514],\n [-6.965614384070536, -0.24899146960653695, 4.6247772650154815],\n [-3.802520543137396, 1.800579005741529, -6.70680180800725],\n [4.758508014787072, 2.285166169142304, -5.766805891528836]]"
     },
     "metadata": {},
     "execution_count": 55
    }
   ],
   "source": [
    "test_feature_matrix"
   ]
  },
  {
   "cell_type": "code",
   "execution_count": 56,
   "metadata": {},
   "outputs": [
    {
     "output_type": "execute_result",
     "data": {
      "text/plain": "[0, 0, 0, 1, 1, 0, 0, 1, 0, 1, 1, 1, 1, 1, 0]"
     },
     "metadata": {},
     "execution_count": 56
    }
   ],
   "source": [
    "test_target"
   ]
  },
  {
   "cell_type": "markdown",
   "metadata": {},
   "source": [
    "### Predictions and Accuracy vs. Scikit-learn's NB Model:"
   ]
  },
  {
   "cell_type": "markdown",
   "metadata": {},
   "source": [
    "Our model's predictions and accuracy score:"
   ]
  },
  {
   "cell_type": "code",
   "execution_count": 57,
   "metadata": {
    "tags": []
   },
   "outputs": [
    {
     "output_type": "execute_result",
     "data": {
      "text/plain": "[0, 0, 0, 1, 1, 0, 0, 1, 0, 1, 1, 1, 1, 1, 1]"
     },
     "metadata": {},
     "execution_count": 57
    }
   ],
   "source": [
    "# Our model's predictions:\n",
    "model_nb = NaiveBayesGaussian()\n",
    "model_nb.fit(X_features=test_feature_matrix, y_target=test_target)\n",
    "model_nb.predict(X_features=test_feature_matrix)"
   ]
  },
  {
   "cell_type": "code",
   "execution_count": 58,
   "metadata": {
    "tags": []
   },
   "outputs": [
    {
     "output_type": "execute_result",
     "data": {
      "text/plain": "0.9333333333333333"
     },
     "metadata": {},
     "execution_count": 58
    }
   ],
   "source": [
    "# Our model's accuracy score:\n",
    "model_nb.score(X_features=test_feature_matrix, y_target=test_target)"
   ]
  },
  {
   "cell_type": "markdown",
   "metadata": {},
   "source": [
    "Scikit-learn Naive Bayes (Gaussian) model's predictions and accuracy score:"
   ]
  },
  {
   "cell_type": "code",
   "execution_count": 59,
   "metadata": {},
   "outputs": [
    {
     "output_type": "execute_result",
     "data": {
      "text/plain": "array([0, 0, 0, 1, 1, 0, 0, 1, 0, 1, 1, 1, 1, 1, 1])"
     },
     "metadata": {},
     "execution_count": 59
    }
   ],
   "source": [
    "# Scikit-learn model's predictions:\n",
    "from sklearn.naive_bayes import GaussianNB\n",
    "\n",
    "sklearn_model_nb = GaussianNB()\n",
    "sklearn_model_nb.fit(X=test_feature_matrix, y=test_target)\n",
    "sklearn_predictions = sklearn_model_nb.predict(X=test_feature_matrix)\n",
    "sklearn_predictions"
   ]
  },
  {
   "cell_type": "code",
   "execution_count": 60,
   "metadata": {},
   "outputs": [
    {
     "output_type": "execute_result",
     "data": {
      "text/plain": "0.9333333333333333"
     },
     "metadata": {},
     "execution_count": 60
    }
   ],
   "source": [
    "# Scikit-learn model's accuracy score:\n",
    "from sklearn.metrics import accuracy_score\n",
    "\n",
    "accuracy_score(y_true=test_target, y_pred=sklearn_predictions)"
   ]
  }
 ]
}