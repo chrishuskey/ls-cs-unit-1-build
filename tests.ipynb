{
 "metadata": {
  "language_info": {
   "codemirror_mode": {
    "name": "ipython",
    "version": 3
   },
   "file_extension": ".py",
   "mimetype": "text/x-python",
   "name": "python",
   "nbconvert_exporter": "python",
   "pygments_lexer": "ipython3",
   "version": "3.7.6-final"
  },
  "orig_nbformat": 2,
  "kernelspec": {
   "name": "ml",
   "display_name": "ML (Python3)"
  }
 },
 "nbformat": 4,
 "nbformat_minor": 2,
 "cells": [
  {
   "cell_type": "markdown",
   "metadata": {},
   "source": [
    "# Test: Our Naive Bayes Model vs. Scikit-learn Naive Bayes"
   ]
  },
  {
   "cell_type": "markdown",
   "metadata": {},
   "source": [
    "## Using Random Data (of Random Size and Shape):"
   ]
  },
  {
   "cell_type": "code",
   "execution_count": 1,
   "metadata": {},
   "outputs": [],
   "source": [
    "# Import libraries, packages, modules:\n",
    "\n",
    "# Models (estimator classes):\n",
    "from naive_bayes import NaiveBayesGaussian\n",
    "from sklearn.naive_bayes import GaussianNB\n",
    "\n",
    "# Other, for testing below:\n",
    "import numpy as np\n",
    "import pandas as pd\n",
    "import random"
   ]
  },
  {
   "cell_type": "code",
   "execution_count": 2,
   "metadata": {},
   "outputs": [],
   "source": [
    "# Test data: Make randomized data to test with:\n",
    "\n",
    "test_num_features = random.randint(1, 51)\n",
    "test_num_rows = test_num_features * 5\n",
    "# OR: random.randint(0, 101) OR np.random.randint(0, 101)\n",
    "\n",
    "test_feature_matrix = [[random.uniform(-10, 10) for feature in range(test_num_features)] for row in range(test_num_rows)]\n",
    "# OR: np.random.uniform(low=-10, high=10, size=(test_num_rows, test_num_features))\n",
    "test_target = [random.randint(0, 1) for row in range(test_num_rows)]\n",
    "# OR: np.random.random_integers(low=0, high=1, size=(test_length,))"
   ]
  },
  {
   "cell_type": "code",
   "execution_count": 3,
   "metadata": {
    "tags": []
   },
   "outputs": [
    {
     "output_type": "stream",
     "name": "stdout",
     "text": "test_feature_matrix shape: 215 x 43\n"
    }
   ],
   "source": [
    "print(f\"test_feature_matrix shape: {len(test_feature_matrix)} x {len(test_feature_matrix[0])}\")"
   ]
  },
  {
   "cell_type": "code",
   "execution_count": 4,
   "metadata": {
    "tags": []
   },
   "outputs": [
    {
     "output_type": "stream",
     "name": "stdout",
     "text": "test_target length: 215\n"
    }
   ],
   "source": [
    "print(f\"test_target length: {len(test_target)}\")"
   ]
  },
  {
   "cell_type": "markdown",
   "metadata": {},
   "source": [
    "### Predictions and Accuracy vs. Scikit-learn's NB Model:"
   ]
  },
  {
   "cell_type": "markdown",
   "metadata": {},
   "source": [
    "Our model's predictions and accuracy score:"
   ]
  },
  {
   "cell_type": "code",
   "execution_count": 5,
   "metadata": {
    "tags": []
   },
   "outputs": [
    {
     "output_type": "execute_result",
     "data": {
      "text/plain": "[0,\n 1,\n 1,\n 0,\n 1,\n 0,\n 1,\n 0,\n 0,\n 1,\n 0,\n 0,\n 1,\n 0,\n 0,\n 1,\n 1,\n 1,\n 0,\n 1,\n 1,\n 0,\n 0,\n 0,\n 0,\n 1,\n 1,\n 1,\n 1,\n 1,\n 0,\n 0,\n 0,\n 1,\n 1,\n 0,\n 0,\n 1,\n 1,\n 0,\n 1,\n 1,\n 0,\n 1,\n 1,\n 1,\n 0,\n 1,\n 0,\n 0,\n 1,\n 1,\n 0,\n 1,\n 0,\n 0,\n 1,\n 0,\n 1,\n 0,\n 1,\n 1,\n 1,\n 1,\n 0,\n 0,\n 1,\n 1,\n 0,\n 0,\n 1,\n 1,\n 0,\n 0,\n 0,\n 0,\n 1,\n 0,\n 0,\n 0,\n 0,\n 1,\n 0,\n 1,\n 0,\n 1,\n 1,\n 0,\n 1,\n 1,\n 1,\n 1,\n 0,\n 1,\n 0,\n 0,\n 0,\n 1,\n 1,\n 1,\n 1,\n 1,\n 1,\n 1,\n 1,\n 0,\n 1,\n 1,\n 0,\n 0,\n 1,\n 0,\n 1,\n 0,\n 1,\n 1,\n 1,\n 0,\n 0,\n 1,\n 0,\n 1,\n 1,\n 1,\n 0,\n 0,\n 1,\n 0,\n 0,\n 1,\n 0,\n 1,\n 0,\n 0,\n 1,\n 1,\n 0,\n 0,\n 0,\n 0,\n 0,\n 1,\n 0,\n 0,\n 1,\n 1,\n 1,\n 0,\n 0,\n 1,\n 0,\n 1,\n 0,\n 1,\n 1,\n 1,\n 0,\n 1,\n 0,\n 0,\n 1,\n 1,\n 0,\n 0,\n 0,\n 1,\n 0,\n 1,\n 1,\n 0,\n 0,\n 1,\n 0,\n 1,\n 1,\n 1,\n 0,\n 1,\n 1,\n 1,\n 0,\n 0,\n 0,\n 0,\n 0,\n 1,\n 1,\n 0,\n 1,\n 1,\n 1,\n 0,\n 0,\n 0,\n 0,\n 0,\n 1,\n 0,\n 1,\n 1,\n 0,\n 1,\n 0,\n 1,\n 1,\n 0,\n 0,\n 0,\n 1,\n 1,\n 1,\n 1,\n 0,\n 0,\n 0]"
     },
     "metadata": {},
     "execution_count": 5
    }
   ],
   "source": [
    "# Our model's predictions:\n",
    "model_nb = NaiveBayesGaussian()\n",
    "model_nb.fit(X_features=test_feature_matrix, y_target=test_target)\n",
    "model_nb.predict(X_features=test_feature_matrix)"
   ]
  },
  {
   "cell_type": "code",
   "execution_count": 6,
   "metadata": {
    "tags": []
   },
   "outputs": [
    {
     "output_type": "execute_result",
     "data": {
      "text/plain": "0.7348837209302326"
     },
     "metadata": {},
     "execution_count": 6
    }
   ],
   "source": [
    "# Our model's accuracy score:\n",
    "model_nb.score(X_features=test_feature_matrix, y_true=test_target)"
   ]
  },
  {
   "cell_type": "markdown",
   "metadata": {},
   "source": [
    "Scikit-learn Naive Bayes (Gaussian) model's predictions and accuracy score:"
   ]
  },
  {
   "cell_type": "code",
   "execution_count": 7,
   "metadata": {},
   "outputs": [
    {
     "output_type": "execute_result",
     "data": {
      "text/plain": "array([0, 1, 1, 0, 1, 0, 1, 0, 0, 1, 0, 0, 1, 0, 0, 1, 1, 1, 0, 1, 1, 0,\n       0, 0, 0, 1, 1, 1, 1, 1, 0, 0, 0, 1, 1, 0, 0, 1, 1, 0, 1, 1, 0, 1,\n       1, 1, 0, 1, 0, 0, 1, 1, 0, 1, 0, 0, 1, 0, 1, 0, 1, 1, 1, 1, 0, 0,\n       1, 1, 0, 0, 1, 1, 0, 0, 0, 0, 1, 0, 0, 0, 0, 1, 0, 1, 0, 1, 1, 0,\n       1, 1, 1, 1, 0, 1, 0, 0, 0, 1, 1, 1, 1, 1, 1, 1, 1, 0, 1, 1, 0, 0,\n       1, 0, 1, 0, 1, 1, 1, 0, 0, 1, 0, 1, 1, 1, 0, 0, 1, 0, 0, 1, 0, 1,\n       0, 0, 1, 1, 0, 0, 0, 0, 0, 1, 0, 0, 1, 1, 1, 0, 0, 1, 0, 1, 0, 1,\n       1, 1, 0, 1, 0, 0, 1, 1, 0, 0, 0, 1, 0, 1, 1, 0, 0, 1, 0, 1, 1, 1,\n       0, 1, 1, 1, 0, 0, 0, 0, 0, 1, 1, 0, 1, 1, 1, 0, 0, 0, 0, 0, 1, 0,\n       1, 1, 0, 1, 0, 1, 1, 0, 0, 0, 1, 1, 1, 1, 0, 0, 0])"
     },
     "metadata": {},
     "execution_count": 7
    }
   ],
   "source": [
    "# Scikit-learn model's predictions:\n",
    "from sklearn.naive_bayes import GaussianNB\n",
    "\n",
    "sklearn_model_nb = GaussianNB()\n",
    "sklearn_model_nb.fit(X=test_feature_matrix, y=test_target)\n",
    "sklearn_predictions = sklearn_model_nb.predict(X=test_feature_matrix)\n",
    "sklearn_predictions"
   ]
  },
  {
   "cell_type": "code",
   "execution_count": 8,
   "metadata": {},
   "outputs": [
    {
     "output_type": "execute_result",
     "data": {
      "text/plain": "0.7348837209302326"
     },
     "metadata": {},
     "execution_count": 8
    }
   ],
   "source": [
    "# Scikit-learn model's accuracy score:\n",
    "from sklearn.metrics import accuracy_score\n",
    "\n",
    "accuracy_score(y_true=test_target, y_pred=sklearn_predictions)"
   ]
  },
  {
   "cell_type": "markdown",
   "metadata": {},
   "source": [
    "## Using Real-world Dataset: Tanzania Water Pumps Data"
   ]
  },
  {
   "cell_type": "markdown",
   "metadata": {},
   "source": [
    "### Setup: Import Pre-prepped Dataset:"
   ]
  },
  {
   "cell_type": "code",
   "execution_count": 9,
   "metadata": {},
   "outputs": [],
   "source": [
    "# Import pre-prepped dataset: training data and inputs only for test data:\n",
    "PATH_DATASET_TANZANIA = \"./datasets_prepped/tanzania_water/\"\n",
    "tanzania_water_X_train = pd.read_csv(PATH_DATASET_TANZANIA + \"X_train.csv\", \n",
    "                                     index_col=0)\n",
    "tanzania_water_y_train = pd.read_csv(PATH_DATASET_TANZANIA + \"y_train.csv\", \n",
    "                                     index_col=0)\n",
    "tanzania_water_X_test = pd.read_csv(PATH_DATASET_TANZANIA + \"X_test.csv\", \n",
    "                                     index_col=0)"
   ]
  },
  {
   "cell_type": "markdown",
   "metadata": {},
   "source": [
    "### Predictions and Accuracy vs. Scikit-learn's NB Model:"
   ]
  },
  {
   "cell_type": "markdown",
   "metadata": {},
   "source": [
    "Our model's predictions and accuracy score:"
   ]
  },
  {
   "cell_type": "code",
   "execution_count": 13,
   "metadata": {},
   "outputs": [],
   "source": [
    "# Import libraries, packages, modules needed:\n",
    "import category_encoders as ce\n",
    "from sklearn.pipeline import make_pipeline\n",
    "from sklearn.preprocessing import OrdinalEncoder, StandardScaler\n",
    "from sklearn.impute import SimpleImputer"
   ]
  },
  {
   "cell_type": "code",
   "execution_count": 14,
   "metadata": {},
   "outputs": [],
   "source": [
    "# Transform input data into numeric data before fitting models:\n",
    "\n",
    "# Initiate class instances of transformers in a pipeline:\n",
    "transformers = make_pipeline(\n",
    "    ce.OrdinalEncoder(), \n",
    "    SimpleImputer(strategy='median'), \n",
    "    StandardScaler()\n",
    ")\n",
    "\n",
    "# Fit on training data:\n",
    "X_train_transformed = transformers.fit_transform(tanzania_water_X_train)\n",
    "X_test_transformed = transformers.transform(tanzania_water_X_test)"
   ]
  },
  {
   "cell_type": "code",
   "execution_count": 15,
   "metadata": {
    "tags": []
   },
   "outputs": [
    {
     "output_type": "execute_result",
     "data": {
      "text/plain": "['non functional',\n 'functional',\n 'functional',\n 'functional',\n 'functional',\n 'functional',\n 'functional',\n 'non functional',\n 'functional',\n 'functional',\n 'functional',\n 'functional',\n 'non functional',\n 'functional',\n 'non functional',\n 'functional',\n 'non functional',\n 'functional',\n 'functional',\n 'functional',\n 'functional',\n 'functional',\n 'functional',\n 'functional',\n 'functional',\n 'functional',\n 'functional',\n 'non functional',\n 'functional',\n 'functional',\n 'non functional',\n 'functional',\n 'functional',\n 'non functional',\n 'functional',\n 'non functional',\n 'non functional',\n 'functional',\n 'non functional',\n 'non functional',\n 'functional',\n 'functional',\n 'non functional',\n 'functional needs repair',\n 'functional',\n 'non functional',\n 'functional',\n 'non functional',\n 'functional',\n 'functional',\n 'non functional',\n 'non functional',\n 'non functional',\n 'functional',\n 'functional',\n 'non functional',\n 'functional',\n 'functional',\n 'functional',\n 'functional',\n 'non functional',\n 'functional',\n 'functional',\n 'functional',\n 'functional',\n 'functional',\n 'functional',\n 'non functional',\n 'functional',\n 'functional',\n 'non functional',\n 'non functional',\n 'functional',\n 'non functional',\n 'functional',\n 'functional',\n 'functional',\n 'non functional',\n 'functional',\n 'non functional',\n 'non functional',\n 'non functional',\n 'functional',\n 'functional',\n 'functional',\n 'non functional',\n 'functional',\n 'non functional',\n 'functional',\n 'functional',\n 'functional',\n 'non functional',\n 'functional',\n 'non functional',\n 'functional',\n 'non functional',\n 'non functional',\n 'non functional',\n 'non functional',\n 'functional',\n 'non functional',\n 'non functional',\n 'functional',\n 'functional needs repair',\n 'functional',\n 'functional',\n 'functional',\n 'functional',\n 'functional',\n 'non functional',\n 'non functional',\n 'non functional',\n 'non functional',\n 'functional',\n 'functional needs repair',\n 'non functional',\n 'functional',\n 'non functional',\n 'non functional',\n 'non functional',\n 'non functional',\n 'functional',\n 'functional',\n 'functional',\n 'non functional',\n 'non functional',\n 'functional',\n 'non functional',\n 'functional',\n 'functional',\n 'non functional',\n 'non functional',\n 'non functional',\n 'functional',\n 'functional',\n 'functional',\n 'non functional',\n 'non functional',\n 'functional',\n 'non functional',\n 'non functional',\n 'functional',\n 'non functional',\n 'functional',\n 'functional',\n 'non functional',\n 'functional',\n 'non functional',\n 'functional',\n 'non functional',\n 'non functional',\n 'non functional',\n 'functional',\n 'functional',\n 'functional',\n 'functional needs repair',\n 'functional',\n 'non functional',\n 'functional',\n 'non functional',\n 'non functional',\n 'functional',\n 'non functional',\n 'functional',\n 'functional',\n 'functional',\n 'functional',\n 'functional needs repair',\n 'non functional',\n 'non functional',\n 'non functional',\n 'functional',\n 'non functional',\n 'non functional',\n 'functional',\n 'functional',\n 'functional',\n 'non functional',\n 'functional',\n 'non functional',\n 'non functional',\n 'functional',\n 'non functional',\n 'functional',\n 'functional',\n 'functional',\n 'functional',\n 'non functional',\n 'non functional',\n 'functional',\n 'non functional',\n 'functional needs repair',\n 'non functional',\n 'functional',\n 'non functional',\n 'functional',\n 'functional',\n 'functional',\n 'functional',\n 'functional',\n 'functional',\n 'functional',\n 'functional needs repair',\n 'non functional',\n 'functional',\n 'functional needs repair',\n 'non functional',\n 'functional',\n 'functional',\n 'functional',\n 'functional',\n 'functional',\n 'functional',\n 'functional',\n 'functional',\n 'non functional',\n 'functional',\n 'non functional',\n 'functional',\n 'functional',\n 'functional',\n 'functional needs repair',\n 'non functional',\n 'functional',\n 'functional',\n 'functional',\n 'functional',\n 'non functional',\n 'non functional',\n 'non functional',\n 'functional needs repair',\n 'functional',\n 'non functional',\n 'non functional',\n 'functional',\n 'functional needs repair',\n 'non functional',\n 'functional',\n 'non functional',\n 'functional',\n 'functional needs repair',\n 'non functional',\n 'functional',\n 'functional',\n 'non functional',\n 'functional',\n 'functional',\n 'functional',\n 'non functional',\n 'non functional',\n 'non functional',\n 'functional',\n 'non functional',\n 'functional',\n 'functional',\n 'functional',\n 'non functional',\n 'functional',\n 'functional',\n 'functional',\n 'functional needs repair',\n 'functional',\n 'functional',\n 'functional',\n 'non functional',\n 'functional',\n 'non functional',\n 'non functional',\n 'functional',\n 'functional',\n 'non functional',\n 'functional',\n 'functional',\n 'non functional',\n 'non functional',\n 'functional',\n 'functional',\n 'functional',\n 'functional',\n 'functional',\n 'functional',\n 'non functional',\n 'non functional',\n 'functional',\n 'non functional',\n 'non functional',\n 'functional',\n 'non functional',\n 'functional',\n 'functional',\n 'non functional',\n 'functional',\n 'non functional',\n 'functional',\n 'non functional',\n 'functional',\n 'functional',\n 'functional',\n 'functional',\n 'functional',\n 'functional',\n 'non functional',\n 'functional',\n 'functional',\n 'functional',\n 'functional',\n 'functional',\n 'non functional',\n 'functional',\n 'functional',\n 'functional',\n 'functional',\n 'non functional',\n 'non functional',\n 'functional',\n 'non functional',\n 'functional',\n 'non functional',\n 'non functional',\n 'non functional',\n 'functional',\n 'non functional',\n 'non functional',\n 'non functional',\n 'functional',\n 'functional needs repair',\n 'functional',\n 'functional',\n 'non functional',\n 'non functional',\n 'non functional',\n 'functional needs repair',\n 'functional',\n 'functional',\n 'non functional',\n 'non functional',\n 'non functional',\n 'functional',\n 'functional',\n 'functional',\n 'functional',\n 'functional',\n 'functional',\n 'non functional',\n 'non functional',\n 'non functional',\n 'functional',\n 'functional',\n 'non functional',\n 'non functional',\n 'functional',\n 'non functional',\n 'non functional',\n 'functional needs repair',\n 'functional',\n 'non functional',\n 'functional',\n 'functional',\n 'functional',\n 'non functional',\n 'functional',\n 'functional',\n 'functional',\n 'functional',\n 'functional needs repair',\n 'non functional',\n 'non functional',\n 'non functional',\n 'functional',\n 'functional',\n 'non functional',\n 'functional',\n 'non functional',\n 'functional',\n 'functional',\n 'non functional',\n 'non functional',\n 'functional',\n 'functional',\n 'functional needs repair',\n 'non functional',\n 'functional',\n 'non functional',\n 'non functional',\n 'non functional',\n 'functional',\n 'functional needs repair',\n 'functional',\n 'functional needs repair',\n 'non functional',\n 'functional',\n 'functional',\n 'functional',\n 'functional',\n 'functional',\n 'functional',\n 'functional',\n 'functional',\n 'functional',\n 'functional',\n 'functional needs repair',\n 'functional',\n 'non functional',\n 'functional',\n 'functional',\n 'functional',\n 'non functional',\n 'non functional',\n 'functional',\n 'functional',\n 'functional',\n 'functional needs repair',\n 'functional',\n 'functional',\n 'functional',\n 'functional needs repair',\n 'functional',\n 'non functional',\n 'functional needs repair',\n 'functional',\n 'functional',\n 'non functional',\n 'non functional',\n 'non functional',\n 'functional',\n 'functional',\n 'functional',\n 'functional needs repair',\n 'functional',\n 'functional',\n 'functional',\n 'non functional',\n 'functional',\n 'non functional',\n 'non functional',\n 'functional',\n 'functional needs repair',\n 'functional',\n 'functional',\n 'non functional',\n 'functional',\n 'functional',\n 'functional',\n 'non functional',\n 'functional',\n 'non functional',\n 'non functional',\n 'functional',\n 'non functional',\n 'non functional',\n 'non functional',\n 'functional',\n 'functional',\n 'functional',\n 'functional needs repair',\n 'non functional',\n 'functional',\n 'functional',\n 'functional',\n 'functional',\n 'non functional',\n 'non functional',\n 'functional',\n 'non functional',\n 'functional',\n 'functional',\n 'functional',\n 'functional needs repair',\n 'non functional',\n 'non functional',\n 'non functional',\n 'functional',\n 'non functional',\n 'non functional',\n 'functional',\n 'functional',\n 'functional',\n 'functional needs repair',\n 'functional',\n 'non functional',\n 'functional',\n 'non functional',\n 'non functional',\n 'non functional',\n 'functional needs repair',\n 'non functional',\n 'non functional',\n 'non functional',\n 'functional needs repair',\n 'functional',\n 'non functional',\n 'non functional',\n 'non functional',\n 'functional',\n 'functional',\n 'functional',\n 'functional',\n 'functional',\n 'non functional',\n 'functional',\n 'functional',\n 'non functional',\n 'functional',\n 'functional',\n 'functional',\n 'non functional',\n 'non functional',\n 'functional',\n 'functional',\n 'non functional',\n 'non functional',\n 'functional',\n 'functional',\n 'functional',\n 'non functional',\n 'functional',\n 'functional',\n 'non functional',\n 'functional',\n 'functional',\n 'functional',\n 'functional',\n 'functional',\n 'functional',\n 'non functional',\n 'non functional',\n 'functional',\n 'non functional',\n 'functional',\n 'non functional',\n 'non functional',\n 'functional',\n 'non functional',\n 'non functional',\n 'functional',\n 'non functional',\n 'non functional',\n 'functional',\n 'non functional',\n 'functional',\n 'functional needs repair',\n 'functional',\n 'non functional',\n 'functional',\n 'non functional',\n 'non functional',\n 'functional',\n 'functional',\n 'functional',\n 'functional',\n 'functional',\n 'functional',\n 'functional',\n 'non functional',\n 'non functional',\n 'functional needs repair',\n 'non functional',\n 'non functional',\n 'non functional',\n 'functional',\n 'functional',\n 'functional',\n 'functional',\n 'non functional',\n 'non functional',\n 'non functional',\n 'functional',\n 'functional',\n 'non functional',\n 'functional',\n 'non functional',\n 'functional',\n 'functional',\n 'non functional',\n 'functional',\n 'functional',\n 'non functional',\n 'functional',\n 'functional',\n 'functional needs repair',\n 'functional',\n 'non functional',\n 'non functional',\n 'functional',\n 'functional',\n 'functional',\n 'functional',\n 'non functional',\n 'functional',\n 'non functional',\n 'non functional',\n 'functional',\n 'non functional',\n 'functional',\n 'non functional',\n 'non functional',\n 'functional',\n 'functional',\n 'non functional',\n 'functional needs repair',\n 'functional',\n 'functional',\n 'non functional',\n 'functional',\n 'non functional',\n 'non functional',\n 'functional',\n 'functional',\n 'non functional',\n 'functional',\n 'functional needs repair',\n 'functional',\n 'non functional',\n 'non functional',\n 'non functional',\n 'functional',\n 'functional',\n 'non functional',\n 'functional',\n 'functional',\n 'non functional',\n 'functional',\n 'functional',\n 'functional',\n 'functional',\n 'non functional',\n 'functional',\n 'non functional',\n 'functional',\n 'non functional',\n 'non functional',\n 'functional',\n 'non functional',\n 'non functional',\n 'functional',\n 'non functional',\n 'functional',\n 'functional',\n 'functional',\n 'functional',\n 'functional',\n 'non functional',\n 'functional needs repair',\n 'functional',\n 'functional',\n 'non functional',\n 'functional',\n 'non functional',\n 'non functional',\n 'non functional',\n 'non functional',\n 'non functional',\n 'functional needs repair',\n 'non functional',\n 'non functional',\n 'functional',\n 'non functional',\n 'functional',\n 'functional',\n 'non functional',\n 'functional',\n 'functional needs repair',\n 'functional',\n 'functional',\n 'non functional',\n 'functional',\n 'functional',\n 'functional',\n 'functional',\n 'functional',\n 'non functional',\n 'functional',\n 'functional',\n 'non functional',\n 'functional',\n 'functional',\n 'functional',\n 'non functional',\n 'functional',\n 'functional',\n 'functional',\n 'non functional',\n 'functional',\n 'functional',\n 'functional',\n 'non functional',\n 'functional',\n 'functional',\n 'functional',\n 'functional',\n 'functional',\n 'functional',\n 'functional',\n 'functional',\n 'non functional',\n 'non functional',\n 'functional',\n 'functional',\n 'non functional',\n 'functional',\n 'functional',\n 'non functional',\n 'functional',\n 'functional',\n 'non functional',\n 'functional',\n 'non functional',\n 'functional',\n 'functional',\n 'functional needs repair',\n 'functional',\n 'non functional',\n 'functional needs repair',\n 'functional needs repair',\n 'functional',\n 'functional',\n 'functional',\n 'functional',\n 'functional',\n 'functional',\n 'functional',\n 'functional',\n 'functional',\n 'functional',\n 'non functional',\n 'non functional',\n 'functional',\n 'non functional',\n 'non functional',\n 'functional',\n 'functional',\n 'functional',\n 'non functional',\n 'functional',\n 'non functional',\n 'non functional',\n 'functional',\n 'functional',\n 'non functional',\n 'functional',\n 'functional',\n 'non functional',\n 'functional',\n 'functional',\n 'non functional',\n 'functional',\n 'non functional',\n 'non functional',\n 'functional',\n 'non functional',\n 'non functional',\n 'functional',\n 'non functional',\n 'functional',\n 'non functional',\n 'functional',\n 'non functional',\n 'functional',\n 'functional',\n 'functional',\n 'functional needs repair',\n 'functional',\n 'functional',\n 'non functional',\n 'functional needs repair',\n 'functional',\n 'non functional',\n 'functional',\n 'functional',\n 'functional',\n 'functional',\n 'non functional',\n 'non functional',\n 'non functional',\n 'functional',\n 'non functional',\n 'functional needs repair',\n 'functional',\n 'functional',\n 'functional',\n 'functional',\n 'functional',\n 'non functional',\n 'functional',\n 'functional',\n 'functional',\n 'functional',\n 'non functional',\n 'non functional',\n 'functional needs repair',\n 'functional',\n 'functional',\n 'non functional',\n 'functional',\n 'functional',\n 'functional needs repair',\n 'non functional',\n 'functional',\n 'functional needs repair',\n 'functional needs repair',\n 'functional',\n 'functional',\n 'functional',\n 'non functional',\n 'functional',\n 'non functional',\n 'functional',\n 'non functional',\n 'non functional',\n 'functional',\n 'functional',\n 'functional',\n 'non functional',\n 'functional',\n 'non functional',\n 'non functional',\n 'functional',\n 'functional',\n 'functional',\n 'non functional',\n 'functional',\n 'non functional',\n 'functional',\n 'functional',\n 'functional',\n 'functional',\n 'functional',\n 'functional',\n 'non functional',\n 'non functional',\n 'non functional',\n 'non functional',\n 'functional',\n 'non functional',\n 'functional',\n 'functional',\n 'functional',\n 'functional',\n 'functional',\n 'functional',\n 'functional',\n 'functional',\n 'non functional',\n 'functional',\n 'non functional',\n 'functional',\n 'non functional',\n 'functional',\n 'functional',\n 'functional',\n 'functional',\n 'non functional',\n 'functional',\n 'functional',\n 'functional',\n 'non functional',\n 'functional',\n 'non functional',\n 'non functional',\n 'functional',\n 'functional needs repair',\n 'functional',\n 'functional',\n 'functional',\n 'functional',\n 'functional',\n 'functional',\n 'functional',\n 'non functional',\n 'functional',\n 'functional',\n 'functional',\n 'non functional',\n 'non functional',\n 'functional',\n 'non functional',\n 'non functional',\n 'functional',\n 'functional',\n 'non functional',\n 'functional',\n 'functional',\n 'functional',\n 'non functional',\n 'functional',\n 'non functional',\n 'functional',\n 'functional',\n 'functional',\n 'functional needs repair',\n 'functional needs repair',\n 'functional',\n 'functional',\n 'functional',\n 'functional',\n 'functional',\n 'non functional',\n 'non functional',\n 'non functional',\n 'functional',\n 'non functional',\n 'functional',\n 'non functional',\n 'functional',\n 'non functional',\n 'functional',\n 'functional',\n 'non functional',\n 'non functional',\n 'functional',\n 'non functional',\n 'non functional',\n 'functional',\n 'functional needs repair',\n 'functional',\n 'functional needs repair',\n 'functional',\n 'functional',\n 'non functional',\n 'functional',\n 'functional',\n 'non functional',\n 'functional',\n 'functional',\n 'functional needs repair',\n 'non functional',\n 'non functional',\n 'non functional',\n 'functional',\n 'functional',\n 'functional',\n 'functional',\n 'non functional',\n 'non functional',\n 'non functional',\n 'functional',\n 'functional',\n 'functional needs repair',\n 'functional',\n 'functional',\n 'functional',\n 'functional',\n 'functional',\n 'functional',\n 'functional needs repair',\n 'non functional',\n 'functional',\n 'non functional',\n 'non functional',\n 'non functional',\n 'non functional',\n 'functional',\n 'non functional',\n 'functional',\n 'functional',\n 'functional',\n 'non functional',\n 'functional',\n 'functional',\n 'non functional',\n 'functional',\n 'functional',\n 'non functional',\n 'non functional',\n 'non functional',\n 'non functional',\n 'functional',\n 'functional',\n 'functional',\n 'functional',\n 'non functional',\n 'non functional',\n 'functional',\n 'functional',\n 'functional',\n 'non functional',\n 'functional',\n 'functional',\n 'functional',\n 'non functional',\n 'functional',\n 'non functional',\n 'functional',\n 'functional',\n 'non functional',\n 'functional',\n 'functional',\n 'functional',\n 'non functional',\n 'non functional',\n 'functional',\n 'functional',\n 'non functional',\n 'non functional',\n 'non functional',\n 'non functional',\n 'non functional',\n 'functional',\n 'functional',\n 'non functional',\n ...]"
     },
     "metadata": {},
     "execution_count": 15
    }
   ],
   "source": [
    "# Our model's predictions:\n",
    "model_nb = NaiveBayesGaussian()\n",
    "model_nb.fit(X_features=X_train_transformed, y_target=tanzania_water_y_train)\n",
    "model_nb.predict(X_features=X_test_transformed)"
   ]
  },
  {
   "cell_type": "code",
   "execution_count": 16,
   "metadata": {},
   "outputs": [],
   "source": [
    "# Get actual results to compare to and get our model's predictions' accuracy:\n",
    "tanzania_water_y_test = pd.read_csv(PATH_DATASET_TANZANIA + \"y_test.csv\", \n",
    "                                     index_col=0)"
   ]
  },
  {
   "cell_type": "code",
   "execution_count": 17,
   "metadata": {
    "tags": []
   },
   "outputs": [
    {
     "output_type": "execute_result",
     "data": {
      "text/plain": "0.6536700336700336"
     },
     "metadata": {},
     "execution_count": 17
    }
   ],
   "source": [
    "# Our model's accuracy score:\n",
    "model_nb.score(X_features=X_test_transformed, y_true=tanzania_water_y_test)"
   ]
  },
  {
   "cell_type": "markdown",
   "metadata": {},
   "source": [
    "Scikit-learn Naive Bayes (Gaussian) model's predictions and accuracy score:"
   ]
  },
  {
   "cell_type": "code",
   "execution_count": 18,
   "metadata": {},
   "outputs": [
    {
     "output_type": "execute_result",
     "data": {
      "text/plain": "array(['non functional', 'functional', 'functional', ...,\n       'non functional', 'functional', 'non functional'], dtype='<U23')"
     },
     "metadata": {},
     "execution_count": 18
    }
   ],
   "source": [
    "# Scikit-learn model's predictions:\n",
    "from sklearn.naive_bayes import GaussianNB\n",
    "\n",
    "sklearn_model_nb = GaussianNB()\n",
    "sklearn_model_nb.fit(X=X_train_transformed, y=tanzania_water_y_train)\n",
    "sklearn_predictions = sklearn_model_nb.predict(X=X_test_transformed)\n",
    "sklearn_predictions"
   ]
  },
  {
   "cell_type": "code",
   "execution_count": 19,
   "metadata": {},
   "outputs": [
    {
     "output_type": "execute_result",
     "data": {
      "text/plain": "0.6536026936026936"
     },
     "metadata": {},
     "execution_count": 19
    }
   ],
   "source": [
    "# Scikit-learn model's accuracy score:\n",
    "from sklearn.metrics import accuracy_score\n",
    "\n",
    "accuracy_score(y_true=tanzania_water_y_test, y_pred=sklearn_predictions)"
   ]
  }
 ]
}